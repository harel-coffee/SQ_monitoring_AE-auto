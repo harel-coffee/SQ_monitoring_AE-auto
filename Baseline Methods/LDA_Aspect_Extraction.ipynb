{
 "cells": [
  {
   "cell_type": "markdown",
   "metadata": {},
   "source": [
    "# Service Quality Monitoring in Confined Spaces Through Mining Twitter Data"
   ]
  },
  {
   "cell_type": "markdown",
   "metadata": {},
   "source": [
    "## Task1: Aspect Extraction"
   ]
  },
  {
   "cell_type": "markdown",
   "metadata": {},
   "source": [
    "### Baseline Approaches: LDA"
   ]
  },
  {
   "cell_type": "code",
   "execution_count": 2,
   "metadata": {},
   "outputs": [],
   "source": [
    "import warnings\n",
    "warnings.filterwarnings(\"ignore\")\n",
    "\n",
    "# General tools\n",
    "import os\n",
    "import re\n",
    "from collections import Counter, defaultdict\n",
    "import pandas as pd\n",
    "import numpy as np\n",
    "from tabulate import tabulate\n",
    "\n",
    "\n",
    "# Gensim\n",
    "import gensim\n",
    "import gensim.corpora as corpora\n",
    "from gensim.utils import simple_preprocess\n",
    "from gensim.models import CoherenceModel\n",
    "\n",
    "# Plotting tools\n",
    "import pyLDAvis\n",
    "import pyLDAvis.gensim  # don't skip this\n",
    "import matplotlib.pyplot as plt\n",
    "%matplotlib inline\n",
    "\n",
    "# text-processing tools\n",
    "import spacy\n",
    "from nltk.corpus import stopwords\n",
    "from nltk.stem.snowball import SnowballStemmer\n",
    "\n",
    "\n",
    "# classification tools\n",
    "from sklearn import svm\n",
    "from sklearn.preprocessing import MultiLabelBinarizer\n",
    "from sklearn.multiclass import OneVsRestClassifier\n",
    "from sklearn.metrics import classification_report\n",
    "from sklearn.metrics import f1_score\n",
    "from sklearn.metrics import roc_auc_score\n",
    "from sklearn.linear_model import LogisticRegression\n",
    "from sklearn.neural_network import MLPClassifier\n",
    "\n",
    "\n",
    "# global parameters\n",
    "TRAIN_SET_PATH = \"scs.txt\"\n",
    "TEST_SET_PATH = \"fss.txt\""
   ]
  },
  {
   "cell_type": "code",
   "execution_count": 3,
   "metadata": {},
   "outputs": [],
   "source": [
    "# NLTK Stop words\n",
    "stop_words = stopwords.words('english')\n",
    "stop_words.extend(['from', 'subject', 're', 'edu', 'use'])\n",
    "nlp = spacy.load('en', disable=['parser', 'ner'])\n",
    "stemmer = SnowballStemmer(language='english')"
   ]
  },
  {
   "cell_type": "code",
   "execution_count": 4,
   "metadata": {},
   "outputs": [],
   "source": [
    "# Define functions for stopwords, bigrams, trigrams and lemmatization\n",
    "def remove_stopwords(texts):\n",
    "    return [[word for word in simple_preprocess(str(doc)) if word not in stop_words] for doc in texts]\n",
    "\n",
    "def make_bigrams(texts, bigram_mod):\n",
    "    return [bigram_mod[doc] for doc in texts]\n",
    "\n",
    "def make_trigrams(texts, bigram_mod, trigram_mod):\n",
    "    return [trigram_mod[bigram_mod[doc]] for doc in texts]\n",
    "\n",
    "def lemmatization(texts, allowed_postags=['NOUN', 'ADJ', 'VERB', 'ADV']):\n",
    "    \"\"\"https://spacy.io/api/annotation\"\"\"\n",
    "    texts_out = []\n",
    "    for sent in texts:\n",
    "        doc = nlp(\" \".join(sent)) \n",
    "        texts_out.append([token.lemma_ for token in doc if token.pos_ in allowed_postags])\n",
    "    return texts_out\n",
    "\n",
    "def stemming(texts):\n",
    "    return [[stemmer.stem(word) for word in doc] for doc in texts]"
   ]
  },
  {
   "cell_type": "code",
   "execution_count": 5,
   "metadata": {},
   "outputs": [],
   "source": [
    "def sent_to_words(sentences):\n",
    "    for sentence in sentences:\n",
    "        yield(gensim.utils.simple_preprocess(str(sentence), deacc=True))  # deacc=True removes punctuations\n",
    "        \n",
    "def read_data(path):\n",
    "    df = pd.read_csv(TRAIN_SET_PATH, sep=\"|\", header=None, encoding = \"latin1\")\n",
    "    df.columns = [\"aspect\", \"txt\"]\n",
    "    df = df[df.aspect!='-1'].reset_index(drop=True)\n",
    "    \n",
    "    # Convert to list\n",
    "    data = df.txt.values.tolist()\n",
    "\n",
    "    # Remove Emails\n",
    "    data = [re.sub('\\S*@\\S*\\s?', '', sent) for sent in data]\n",
    "\n",
    "    # Remove new line characters\n",
    "    data = [re.sub('\\s+', ' ', sent) for sent in data]\n",
    "\n",
    "    # Remove distracting single quotes\n",
    "    data = [re.sub(\"\\'\", \"\", sent) for sent in data]\n",
    "    data_words = list(sent_to_words(data))\n",
    "    \n",
    "    return data_words,df\n",
    "\n",
    "def preprocess_data(path):\n",
    "    \n",
    "    data_words,df = read_data(path)\n",
    "    # Build the bigram and trigram models\n",
    "    bigram = gensim.models.Phrases(data_words, min_count=3, threshold=10) # higher threshold fewer phrases.\n",
    "    trigram = gensim.models.Phrases(bigram[data_words], threshold=10)  \n",
    "\n",
    "    # Faster way to get a sentence clubbed as a trigram/bigram\n",
    "    bigram_mod = gensim.models.phrases.Phraser(bigram)\n",
    "    trigram_mod = gensim.models.phrases.Phraser(trigram)\n",
    "\n",
    "    # Form Bigrams\n",
    "    data_words_bigrams = make_bigrams(data_words, bigram_mod)\n",
    "\n",
    "    # Initialize spacy 'en' model, keeping only tagger component (for efficiency)\n",
    "    # python3 -m spacy download en\n",
    "    data_lemmatized = lemmatization(data_words_bigrams, allowed_postags=['NOUN', 'ADJ', 'VERB', 'ADV'])\n",
    "    data_words_nostops = remove_stopwords(data_lemmatized)\n",
    "    data_stemmed = stemming(data_words_nostops)\n",
    "    \n",
    "    return data_stemmed,df"
   ]
  },
  {
   "cell_type": "code",
   "execution_count": 6,
   "metadata": {},
   "outputs": [],
   "source": [
    "# transform y to features\n",
    "def y_to_feature(y):\n",
    "    y_list_train = []\n",
    "    for i,v in enumerate(y):\n",
    "        classes = v.split(',')\n",
    "        classes2=[int(cl.strip()) for cl in classes]\n",
    "        y_list_train.append(tuple(classes2))\n",
    "    return y_list_train"
   ]
  },
  {
   "cell_type": "markdown",
   "metadata": {},
   "source": [
    "# Creating the Dictionary and Corpus needed for Topic Modeling"
   ]
  },
  {
   "cell_type": "code",
   "execution_count": 7,
   "metadata": {},
   "outputs": [],
   "source": [
    "# Create Dictionary\n",
    "texts,df = preprocess_data(TRAIN_SET_PATH)\n",
    "y_train = y_to_feature(list(df.aspect))\n",
    "\n",
    "id2word = corpora.Dictionary(texts)\n",
    "\n",
    "# Create Corpus\n",
    "# Term Document Frequency\n",
    "corpus = [id2word.doc2bow(text) for text in texts]"
   ]
  },
  {
   "cell_type": "markdown",
   "metadata": {},
   "source": [
    "# Building the Topic Model"
   ]
  },
  {
   "cell_type": "code",
   "execution_count": 8,
   "metadata": {},
   "outputs": [],
   "source": [
    "mallet_path = '/usr/bin/mallet' # update this path\n",
    "os.environ['MALLET_HOME'] = '/usr/mallet'"
   ]
  },
  {
   "cell_type": "markdown",
   "metadata": {},
   "source": [
    "# Classifcation"
   ]
  },
  {
   "cell_type": "code",
   "execution_count": 26,
   "metadata": {},
   "outputs": [],
   "source": [
    "# Create Dictionary\n",
    "texts_test,df_test = preprocess_data(TEST_SET_PATH)\n",
    "y_test = y_to_feature(list(df_test.aspect))\n",
    "id2word_test = corpora.Dictionary(texts_test)\n",
    "\n",
    "# Create Corpus\n",
    "# Term Document Frequency\n",
    "corpus_test = [id2word_test.doc2bow(text) for text in texts_test]"
   ]
  },
  {
   "cell_type": "markdown",
   "metadata": {},
   "source": [
    "# Classification for 6 (5 Fold)"
   ]
  },
  {
   "cell_type": "code",
   "execution_count": 27,
   "metadata": {},
   "outputs": [],
   "source": [
    "def get_features(lda_model, corpus):\n",
    "    features=[]\n",
    "    for i, row in enumerate(lda_model[corpus]):\n",
    "        features.append([y for x,y in row])\n",
    "    return features\n",
    "\n",
    "def get_classification_report_as_df(report):\n",
    "    cl_results = report.split()[4:39]\n",
    "    cl_results_rest = report.split()[39:]\n",
    "    df = pd.DataFrame(columns=['P','R','F'])\n",
    "    for i in range(0,len(cl_results),5):\n",
    "        df.loc[len(df)] = cl_results[i+1:i+4]\n",
    "\n",
    "    for i in range(0,len(cl_results_rest),6):\n",
    "        df.loc[len(df)] = cl_results_rest[i+2:i+5]\n",
    "\n",
    "    return df\n",
    "\n",
    "def mean_std_from_results(reports_dic):\n",
    "    mean_result = pd.DataFrame(columns=['P','R','F'])\n",
    "    std_result = pd.DataFrame(columns=['P','R','F'])\n",
    "    for j in range(0,len(reports_dic[1])): # for each aspect\n",
    "        df = pd.DataFrame(columns=['P','R','F'])\n",
    "        for i in reports_dic: # for each fold\n",
    "            df.loc[len(df)] = list(reports_dic[i].loc[j])\n",
    "        df = df.apply(pd.to_numeric)\n",
    "        mean_result.loc[len(mean_result)] = df.mean()\n",
    "        std_result.loc[len(std_result)] = df.std()\n",
    "    return mean_result, std_result"
   ]
  },
  {
   "cell_type": "code",
   "execution_count": 30,
   "metadata": {},
   "outputs": [],
   "source": [
    "svm_reports_dic6=dict()\n",
    "svm_f1_dic6=dict()\n",
    "svm_ROC_dic6=dict()\n",
    "\n",
    "lr_reports_dic6=dict()\n",
    "lr_f1_dic6=dict()\n",
    "lr_ROC_dic6=dict()\n",
    "\n",
    "mlp_reports_dic6=dict()\n",
    "mlp_f1_dic6=dict()\n",
    "mlp_ROC_dic6=dict()\n",
    "\n",
    "for i in range(1,11):\n",
    "    ldamallet6 = gensim.models.wrappers.LdaMallet(mallet_path, corpus=corpus, num_topics=6, id2word=id2word)\n",
    "    train_features = get_features(ldamallet6, corpus)\n",
    "    test_features = get_features(ldamallet6, corpus_test)\n",
    "    \n",
    "    #SVM\n",
    "    mlb = MultiLabelBinarizer()\n",
    "    y_train_transformed = mlb.fit_transform(y_train)\n",
    "    clf = OneVsRestClassifier(svm.SVC(kernel='rbf',C=1,gamma=1/len(y_train_transformed)))\n",
    "    clf = clf.fit(train_features, y_train_transformed) \n",
    "    predicted_labels = clf.predict(test_features)\n",
    "    y_test_transformed = mlb.fit_transform(y_test)\n",
    "    report = classification_report(y_test_transformed, predicted_labels)\n",
    "    svm_reports_dic6[i] = get_classification_report_as_df(report)\n",
    "    svm_f1_dic6[i] = f1_score(y_test_transformed, predicted_labels, average='micro')\n",
    "    svm_ROC_dic6[i] = roc_auc_score(y_test_transformed, predicted_labels)\n",
    "    \n",
    "    #LR\n",
    "    clf = OneVsRestClassifier(LogisticRegression(random_state=42))\n",
    "    clf = clf.fit(train_features, y_train_transformed) \n",
    "    predicted_labels = clf.predict(test_features)\n",
    "    y_test_transformed = mlb.fit_transform(y_test)\n",
    "    report = classification_report(y_test_transformed, predicted_labels)\n",
    "    lr_reports_dic6[i] = get_classification_report_as_df(report)\n",
    "    lr_f1_dic6[i] = f1_score(y_test_transformed, predicted_labels, average='micro')\n",
    "    lr_ROC_dic6[i] = roc_auc_score(y_test_transformed, predicted_labels)\n",
    "    \n",
    "    #MLP\n",
    "    clf = OneVsRestClassifier(MLPClassifier(solver='lbfgs', alpha=1e-5,\n",
    "                    hidden_layer_sizes=(512), random_state=1))\n",
    "\n",
    "    clf.fit(train_features, y_train_transformed)\n",
    "    predicted_labels = clf.predict(test_features)\n",
    "    y_test_transformed = mlb.fit_transform(y_test)\n",
    "    report = classification_report(y_test_transformed, predicted_labels)\n",
    "    mlp_reports_dic6[i] = get_classification_report_as_df(report)\n",
    "    mlp_f1_dic6[i] = f1_score(y_test_transformed, predicted_labels, average='micro')\n",
    "    mlp_ROC_dic6[i] = roc_auc_score(y_test_transformed, predicted_labels)\n",
    "    "
   ]
  },
  {
   "cell_type": "markdown",
   "metadata": {},
   "source": [
    "# Classification for 10"
   ]
  },
  {
   "cell_type": "code",
   "execution_count": 31,
   "metadata": {},
   "outputs": [],
   "source": [
    "svm_reports_dic10=dict()\n",
    "svm_f1_dic10=dict()\n",
    "svm_ROC_dic10=dict()\n",
    "\n",
    "lr_reports_dic10=dict()\n",
    "lr_f1_dic10=dict()\n",
    "lr_ROC_dic10=dict()\n",
    "\n",
    "mlp_reports_dic10=dict()\n",
    "mlp_f1_dic10=dict()\n",
    "mlp_ROC_dic10=dict()\n",
    "\n",
    "for i in range(1,11):\n",
    "    ldamallet10 = gensim.models.wrappers.LdaMallet(mallet_path, corpus=corpus, num_topics=10, id2word=id2word)\n",
    "    train_features = get_features(ldamallet10, corpus)\n",
    "    test_features = get_features(ldamallet10, corpus_test)\n",
    "    \n",
    "    #SVM\n",
    "    mlb = MultiLabelBinarizer()\n",
    "    y_train_transformed = mlb.fit_transform(y_train)\n",
    "    clf = OneVsRestClassifier(svm.SVC(kernel='rbf',C=1,gamma=1/len(y_train_transformed)))\n",
    "    clf = clf.fit(train_features, y_train_transformed) \n",
    "    predicted_labels = clf.predict(test_features)\n",
    "    y_test_transformed = mlb.fit_transform(y_test)\n",
    "    report = classification_report(y_test_transformed, predicted_labels)\n",
    "    svm_reports_dic10[i] = get_classification_report_as_df(report)\n",
    "    svm_f1_dic10[i] = f1_score(y_test_transformed, predicted_labels, average='micro')\n",
    "    svm_ROC_dic10[i] = roc_auc_score(y_test_transformed, predicted_labels)\n",
    "    \n",
    "    #LR\n",
    "    clf = OneVsRestClassifier(LogisticRegression(random_state=42))\n",
    "    clf = clf.fit(train_features, y_train_transformed) \n",
    "    predicted_labels = clf.predict(test_features)\n",
    "    y_test_transformed = mlb.fit_transform(y_test)\n",
    "    report = classification_report(y_test_transformed, predicted_labels)\n",
    "    lr_reports_dic10[i] = get_classification_report_as_df(report)\n",
    "    lr_f1_dic10[i] = f1_score(y_test_transformed, predicted_labels, average='micro')\n",
    "    lr_ROC_dic10[i] = roc_auc_score(y_test_transformed, predicted_labels)\n",
    "    \n",
    "    #MLP\n",
    "    clf = OneVsRestClassifier(MLPClassifier(solver='lbfgs', alpha=1e-5,\n",
    "                    hidden_layer_sizes=(512), random_state=1))\n",
    "\n",
    "    clf.fit(train_features, y_train_transformed)\n",
    "    predicted_labels = clf.predict(test_features)\n",
    "    y_test_transformed = mlb.fit_transform(y_test)\n",
    "    report = classification_report(y_test_transformed, predicted_labels)\n",
    "    mlp_reports_dic10[i] = get_classification_report_as_df(report)\n",
    "    mlp_f1_dic10[i] = f1_score(y_test_transformed, predicted_labels, average='micro')\n",
    "    mlp_ROC_dic10[i] = roc_auc_score(y_test_transformed, predicted_labels)\n"
   ]
  },
  {
   "cell_type": "code",
   "execution_count": 32,
   "metadata": {},
   "outputs": [],
   "source": [
    "svm_mean6, svm_std6 = mean_std_from_results(svm_reports_dic6)\n",
    "lr_mean6, lr_std6 = mean_std_from_results(lr_reports_dic6)\n",
    "mlp_mean6, mlp_std6 = mean_std_from_results(mlp_reports_dic6)"
   ]
  },
  {
   "cell_type": "code",
   "execution_count": 33,
   "metadata": {},
   "outputs": [],
   "source": [
    "svm_mean10, svm_std10 = mean_std_from_results(svm_reports_dic10)\n",
    "lr_mean10, lr_std10 = mean_std_from_results(lr_reports_dic10)\n",
    "mlp_mean10, mlp_std10 = mean_std_from_results(mlp_reports_dic10)"
   ]
  },
  {
   "cell_type": "markdown",
   "metadata": {},
   "source": [
    "# Exporting the results"
   ]
  },
  {
   "cell_type": "code",
   "execution_count": 48,
   "metadata": {},
   "outputs": [],
   "source": [
    "svm_mean6.to_excel('lda_svm6_mean.xlsx')\n",
    "svm_std6.to_excel('lda_svm6_std.xlsx')\n",
    "\n",
    "lr_mean6.to_excel('lda_lr6_mean.xlsx')\n",
    "lr_std6.to_excel('lda_lr6_std.xlsx')\n",
    "\n",
    "mlp_mean6.to_excel('lda_mlp6_mean.xlsx')\n",
    "mlp_std6.to_excel('lda_mlp6_std.xlsx')"
   ]
  },
  {
   "cell_type": "code",
   "execution_count": 49,
   "metadata": {},
   "outputs": [],
   "source": [
    "svm_mean10.to_excel('lda_svm10_mean.xlsx')\n",
    "svm_std10.to_excel('lda_svm10_std.xlsx')\n",
    "\n",
    "lr_mean10.to_excel('lda_lr10_mean.xlsx')\n",
    "lr_std10.to_excel('lda_lr10_std.xlsx')\n",
    "\n",
    "mlp_mean10.to_excel('lda_mlp10_mean.xlsx')\n",
    "mlp_std10.to_excel('lda_mlp10_std.xlsx')"
   ]
  }
 ],
 "metadata": {
  "kernelspec": {
   "display_name": "Python 3",
   "language": "python",
   "name": "python3"
  },
  "language_info": {
   "codemirror_mode": {
    "name": "ipython",
    "version": 3
   },
   "file_extension": ".py",
   "mimetype": "text/x-python",
   "name": "python",
   "nbconvert_exporter": "python",
   "pygments_lexer": "ipython3",
   "version": "3.7.4"
  }
 },
 "nbformat": 4,
 "nbformat_minor": 2
}
